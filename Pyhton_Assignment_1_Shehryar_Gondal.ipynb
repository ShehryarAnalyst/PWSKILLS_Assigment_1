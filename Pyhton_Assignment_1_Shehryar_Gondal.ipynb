{
 "cells": [
  {
   "cell_type": "markdown",
   "id": "b1889f07",
   "metadata": {},
   "source": [
    "## Assignments  Question"
   ]
  },
  {
   "cell_type": "markdown",
   "id": "27fb8129",
   "metadata": {},
   "source": [
    "__Q1) Who developed python programming language ?__\n",
    "\n",
    "__Ans__) Python programming language was developed by Guido van Rossum in February 1991"
   ]
  },
  {
   "cell_type": "markdown",
   "id": "f285a5f2",
   "metadata": {},
   "source": [
    "__Q2) Which type of Programming does Python support?__\n",
    "\n",
    "__Ans__)The names of the programming languages that python supports are:\n",
    "* Object oriented programming (OOP).\n",
    "* Procedural programming language.\n",
    "* Non_Procedural programming language.\n",
    "* Scripting langauge.\n",
    "* Reflextive programming Langauge.\n"
   ]
  },
  {
   "cell_type": "markdown",
   "id": "e63916c3",
   "metadata": {},
   "source": [
    "__Q3) Is Python case sensitive when dealing with identifiers?__\n",
    "\n",
    "__Ans__) __Yes__, Python is case sensitive when dealing with identifiers, which means that the names 'Separate' and 'separate' would be treated as two separate names in the language."
   ]
  },
  {
   "cell_type": "markdown",
   "id": "16b06fbd",
   "metadata": {},
   "source": [
    "__Q4) What is the correct extension of the Python file?__\n",
    "\n",
    "__Ans__)The correct extension of a Python file is __\".py\"__."
   ]
  },
  {
   "cell_type": "markdown",
   "id": "b65052f0",
   "metadata": {},
   "source": [
    "__Q5) Is Python code compiled or interpreted?__\n",
    "\n",
    "__Ans__)Python is an __interpreted language__, not compiled, meaning code is executed line-by-line by the interpreter for easier development and debugging."
   ]
  },
  {
   "cell_type": "markdown",
   "id": "bde316bc",
   "metadata": {},
   "source": [
    "__Q6) Name a few blocks of code used to define in Python language?__\n",
    "\n",
    "__Ans__) In Python, blocks of code are defined using __functions(\"def\" keyword)__, __classes (\"class\" keyword)__, -__conditionals (\"if\", \"elif\", and \"else\" keywords)__, loops."
   ]
  },
  {
   "cell_type": "markdown",
   "id": "50e8b81f",
   "metadata": {},
   "source": [
    "__Q7)State a character used to give single-line comments in Python?__\n",
    "\n",
    "__Ans__) __#__ is the character for single line comment."
   ]
  },
  {
   "cell_type": "markdown",
   "id": "51af594a",
   "metadata": {},
   "source": [
    "__Q8) Mention functions which can help us to find the version of python that we are currently working on?__\n",
    "\n",
    "__Ans__) Use the __sys.version__ or __sys.version_info__ functions to find the Python version,. These return a string or named tuple with information about the version number, release date, and compiler used."
   ]
  },
  {
   "cell_type": "markdown",
   "id": "10e45d57",
   "metadata": {},
   "source": [
    "__Q9) Python supports the creation of anonymous functions at runtime, using a construct called ?__\n",
    "\n",
    "__Ans__)Python supports the creation of anonymous functions at runtime, using a construct called __lambda function__ . These are small, unnamed functions used as arguments in higher-order functions."
   ]
  },
  {
   "cell_type": "markdown",
   "id": "98c4bcdc",
   "metadata": {},
   "source": [
    "__Q10) What does pip stand for python?__\n",
    "\n",
    "__Ans__) Pip stands for __\"Pip Installs Packages\"__.It is a package management system used to install and manage packages and modules in Python."
   ]
  },
  {
   "cell_type": "markdown",
   "id": "1b8f44dd",
   "metadata": {},
   "source": [
    "__Q11) Mention few built_in_function of python ?__\n",
    "\n",
    "__Ans__)In Python, some of the most commonly used built-in functions include  __len()__, __sum()__,__str()__, __float()__,__type()__ etc."
   ]
  },
  {
   "cell_type": "markdown",
   "id": "297f8efd",
   "metadata": {},
   "source": [
    "__Q12) What is the maximum possible length of an identifier in Python?__\n",
    "\n",
    "__Ans__)There is no strict limit to the length of an identifier in Python. The limit is platform-specific, but typically it is 255 characters or less."
   ]
  },
  {
   "cell_type": "markdown",
   "id": "fe24e6ff",
   "metadata": {},
   "source": [
    "__Q13)  What are the benefits of using Python?__\n",
    "\n",
    "__Ans__) Benefits of python language are as follow:\n",
    "\n",
    "* Dynamically typed: Python is a dynamically typed language, which makes it easier to write code quickly, as you don't need to declare variable types in advance\n",
    "\n",
    "* Versatile: Python can be used for a wide range of tasks, such as web development, scientific computing, data analysis, artificial intelligence, and more.\n",
    "\n",
    "* Easy to learn.\n",
    "\n",
    "* Active community."
   ]
  },
  {
   "cell_type": "markdown",
   "id": "6655ebe5",
   "metadata": {},
   "source": [
    "__Q14) How is memory managed in Python?__\n",
    "\n",
    "__Ans__)In Python,__memory management__ is automatically handled by the __interpreter's garbage collector__ and __reference counting mechanism__. The garbage collector frees up memory no longer in use, while the reference counting mechanism tracks the number of references to an object. This eliminates the need for manual memory management and helps to ensure efficient and error-free code."
   ]
  },
  {
   "cell_type": "markdown",
   "id": "8fffac9f",
   "metadata": {},
   "source": [
    "__Q15) How to install Python on Windows and set path variables__\n",
    "\n",
    "__Ans__)To install Python on Windows:\n",
    "\n",
    "1. Download the Python installer from the official website.\n",
    "2. Run the installer and follow the prompts to install Python.\n",
    "3. To set the path variables:\n",
    "  * Open System Properties.\n",
    "  * Click on \"Environment Variables\"\n",
    "  * Add the path of the Python installation to the \"Path\"           environment variable.\n",
    "<br>\n",
    "\n",
    "That's it! Python is now installed and the path variables are set."
   ]
  },
  {
   "cell_type": "markdown",
   "id": "a267870b",
   "metadata": {},
   "source": [
    "__Q16) Is indentation required in python?__\n",
    "\n",
    "__Ans__)__Yes__ ,indentation is required in Python and indicates the block structure of the code. It delimits the code inside control structures like loops and conditionals. Inconsistent indentation can cause syntax errors or unexpected behavior, so it's important to pay attention to it."
   ]
  },
  {
   "cell_type": "markdown",
   "id": "5cb43353",
   "metadata": {},
   "source": [
    "-------------------------------------------------------------------------------------------- __End__----------------------------------------------------------------------------------------------------------------"
   ]
  }
 ],
 "metadata": {
  "kernelspec": {
   "display_name": "Python 3 (ipykernel)",
   "language": "python",
   "name": "python3"
  },
  "language_info": {
   "codemirror_mode": {
    "name": "ipython",
    "version": 3
   },
   "file_extension": ".py",
   "mimetype": "text/x-python",
   "name": "python",
   "nbconvert_exporter": "python",
   "pygments_lexer": "ipython3",
   "version": "3.9.12"
  },
  "varInspector": {
   "cols": {
    "lenName": 16,
    "lenType": 16,
    "lenVar": 40
   },
   "kernels_config": {
    "python": {
     "delete_cmd_postfix": "",
     "delete_cmd_prefix": "del ",
     "library": "var_list.py",
     "varRefreshCmd": "print(var_dic_list())"
    },
    "r": {
     "delete_cmd_postfix": ") ",
     "delete_cmd_prefix": "rm(",
     "library": "var_list.r",
     "varRefreshCmd": "cat(var_dic_list()) "
    }
   },
   "types_to_exclude": [
    "module",
    "function",
    "builtin_function_or_method",
    "instance",
    "_Feature"
   ],
   "window_display": false
  }
 },
 "nbformat": 4,
 "nbformat_minor": 5
}
